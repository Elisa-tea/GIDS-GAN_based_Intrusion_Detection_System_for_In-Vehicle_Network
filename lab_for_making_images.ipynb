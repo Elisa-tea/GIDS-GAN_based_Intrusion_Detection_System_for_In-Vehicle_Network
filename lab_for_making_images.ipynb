{
 "cells": [
  {
   "cell_type": "code",
   "execution_count": 10,
   "outputs": [],
   "source": [
    "import numpy as np\n",
    "import pandas as pd\n",
    "from PIL import Image"
   ],
   "metadata": {
    "collapsed": false,
    "pycharm": {
     "name": "#%%\n"
    }
   }
  },
  {
   "cell_type": "code",
   "execution_count": 11,
   "outputs": [],
   "source": [
    "\n",
    "\n",
    "\"\"\"\n",
    "user setting\n",
    "1. write can_dataset_path which you download in reference paper\n",
    "2. make folder to save can_image_dataset\n",
    "3. run this code\n",
    "\"\"\"\n",
    "\n",
    "can_dataset_path = \"dataset/Training set/normal_run_data.txt\"\n",
    "\n",
    "\n",
    "def one_hot_vector(c):\n",
    "    # convert element of can_data to one hot vector to select can image position\n",
    "    # can element is white(255) and else is black(0)\n",
    "    #    can order: 1  2  3  4  5  6  7  8  9  0  a  b  c  d  e  f\n",
    "    ohv = np.array([0, 0, 0, 0, 0, 0, 0, 0, 0, 0, 0, 0, 0, 0, 0, 0])\n",
    "    if c == \"1\":\n",
    "        ohv[0] = 255\n",
    "    elif c == \"2\":\n",
    "        ohv[1] = 255\n",
    "    elif c == \"3\":\n",
    "        ohv[2] = 255\n",
    "    elif c == \"4\":\n",
    "        ohv[3] = 255\n",
    "    elif c == \"5\":\n",
    "        ohv[4] = 255\n",
    "    elif c == \"6\":\n",
    "        ohv[5] = 255\n",
    "    elif c == \"7\":\n",
    "        ohv[6] = 255\n",
    "    elif c == \"8\":\n",
    "        ohv[7] = 255\n",
    "    elif c == \"9\":\n",
    "        ohv[8] = 255\n",
    "    elif c == \"0\":\n",
    "        ohv[9] = 255\n",
    "    elif c == \"a\":\n",
    "        ohv[10] = 255\n",
    "    elif c == \"b\":\n",
    "        ohv[11] = 255\n",
    "    elif c == \"c\":\n",
    "        ohv[12] = 255\n",
    "    elif c == \"d\":\n",
    "        ohv[13] = 255\n",
    "    elif c == \"e\":\n",
    "        ohv[14] = 255\n",
    "    elif c == \"f\":\n",
    "        ohv[15] = 255\n",
    "    return ohv\n",
    "\n",
    "\n",
    "def convert_to_can_data_to_one_hot_vector(can):\n",
    "    # convert can_data to image\n",
    "\n",
    "    c1 = one_hot_vector(can[0])\n",
    "    c2 = one_hot_vector(can[1])\n",
    "    c3 = one_hot_vector(can[2])\n",
    "\n",
    "    image_can = np.concatenate((c1,c2,c3),axis=0)\n",
    "    return image_can"
   ],
   "metadata": {
    "collapsed": false,
    "pycharm": {
     "name": "#%%\n"
    }
   }
  },
  {
   "cell_type": "code",
   "execution_count": 19,
   "metadata": {
    "collapsed": true
   },
   "outputs": [],
   "source": [
    "def make_can_image(data):\n",
    "    row_size = 64\n",
    "    column_size = 48\n",
    "\n",
    "    # set size of image to 16 X ( 3 * 64 )\n",
    "    # colum is Hexadecimal presentation from CAN ID value\n",
    "    # row is  3 (CAN ID length) * 64 (optimal row size in reference paper)\n",
    "\n",
    "    can_img_num = 0\n",
    "    for w in range(0, 128, row_size): # original : len(data)\n",
    "        can_image = np.zeros((1, column_size))\n",
    "        lst = data.iloc[w : w + row_size]\n",
    "\n",
    "        for i in range(0, len(lst)):\n",
    "            add_can = convert_to_can_data_to_one_hot_vector(lst.iloc[i])\n",
    "            can_image = np.vstack([can_image, add_can])\n",
    "        can_image = np.delete(can_image, (0), axis=0)\n",
    "\n",
    "        # convert (can_img => int type can_img => RGB can_img) to save to png file form\n",
    "        int_can_image = can_image.astype(int)\n",
    "        image = Image.fromarray(int_can_image)\n",
    "        image = image.convert(\"RGB\")\n",
    "\n",
    "        # save img file\n",
    "        image.save(\"CAN_image_dataset/Training_set/can_img_{}.png\".format(can_img_num))\n",
    "        can_img_num += 1\n",
    "\n",
    "    print(\"making can image complete | the number of igage : \", can_img_num)\n",
    "\n",
    "\n",
    "# test this code to check working well\n",
    "\n"
   ]
  },
  {
   "cell_type": "code",
   "execution_count": 20,
   "outputs": [
    {
     "name": "stdout",
     "output_type": "stream",
     "text": [
      "making can image complete | the number of igage :  2\n"
     ]
    }
   ],
   "source": [
    "\n",
    "if __name__ == \"__main__\":\n",
    "    \"\"\"load normal_run_data.txt\"\"\"\n",
    "    can_feature = [\"Timestamp\", \"blank\", \"ID\", \"zero\", \"DLC\", \"Data\"]\n",
    "    data_for_test = pd.read_csv(\n",
    "        can_dataset_path,\n",
    "        sep=\"    \",\n",
    "        engine=\"python\",\n",
    "        encoding=\"cp949\",\n",
    "        header=None,\n",
    "        names=can_feature,\n",
    "    )\n",
    "    df = data_for_test[\"ID\"]\n",
    "    df = df.drop(df.index[988871])  # drop None index\n",
    "\n",
    "    for i in range(len(df)):  # extract needed part\n",
    "        df.at[i] = df.at[i][5:8]\n",
    "\n",
    "    make_can_image(df)\n",
    "\n",
    "    # use this code later to load can image\n",
    "    # img = Image.open('filename.png').convert('L')\n",
    "    # img_array = np.array(img)\n",
    "    # print(img_array)"
   ],
   "metadata": {
    "collapsed": false,
    "pycharm": {
     "name": "#%%\n"
    }
   }
  }
 ],
 "metadata": {
  "kernelspec": {
   "display_name": "Python 3",
   "language": "python",
   "name": "python3"
  },
  "language_info": {
   "codemirror_mode": {
    "name": "ipython",
    "version": 2
   },
   "file_extension": ".py",
   "mimetype": "text/x-python",
   "name": "python",
   "nbconvert_exporter": "python",
   "pygments_lexer": "ipython2",
   "version": "2.7.6"
  }
 },
 "nbformat": 4,
 "nbformat_minor": 0
}