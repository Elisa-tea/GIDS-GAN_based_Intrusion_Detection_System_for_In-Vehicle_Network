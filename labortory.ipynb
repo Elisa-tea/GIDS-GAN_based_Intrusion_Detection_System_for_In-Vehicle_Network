{
 "cells": [
  {
   "cell_type": "code",
   "execution_count": 160,
   "metadata": {
    "collapsed": true
   },
   "outputs": [],
   "source": [
    "import numpy as np\n",
    "import pandas as pd\n",
    "from PIL import Image"
   ]
  },
  {
   "cell_type": "code",
   "execution_count": 161,
   "outputs": [],
   "source": [
    "def one_hot_vector(c):\n",
    "    # convert element of can_data to one hot vector to select can image position\n",
    "    #        order: 1  2  3  4  5  6  7  8  9  0  a  b  c  d  e  f\n",
    "    ohv = np.array([0, 0, 0, 0, 0, 0, 0, 0, 0, 0, 0, 0, 0, 0, 0, 0])\n",
    "    if c == \"1\":\n",
    "        ohv[0] = 255\n",
    "    elif c == \"2\":\n",
    "        ohv[1] = 255\n",
    "    elif c == \"3\":\n",
    "        ohv[2] = 255\n",
    "    elif c == \"4\":\n",
    "        ohv[3] = 255\n",
    "    elif c == \"5\":\n",
    "        ohv[4] = 255\n",
    "    elif c == \"6\":\n",
    "        ohv[5] = 255\n",
    "    elif c == \"7\":\n",
    "        ohv[6] = 255\n",
    "    elif c == \"8\":\n",
    "        ohv[7] = 255\n",
    "    elif c == \"9\":\n",
    "        ohv[8] = 255\n",
    "    elif c == \"0\":\n",
    "        ohv[9] = 255\n",
    "    elif c == \"a\":\n",
    "        ohv[10] = 255\n",
    "    elif c == \"b\":\n",
    "        ohv[11] = 255\n",
    "    elif c == \"c\":\n",
    "        ohv[12] = 255\n",
    "    elif c == \"d\":\n",
    "        ohv[13] = 255\n",
    "    elif c == \"e\":\n",
    "        ohv[14] = 255\n",
    "    elif c == \"f\":\n",
    "        ohv[15] = 255\n",
    "    return ohv\n",
    "\n",
    "\n",
    "def convert_to_can_data_to_image(can):\n",
    "    # convert can_data to image\n",
    "\n",
    "    c1 = one_hot_vector(can[0])\n",
    "    c2 = one_hot_vector(can[1])\n",
    "    c3 = one_hot_vector(can[2])\n",
    "\n",
    "    image_can = np.array([c1, c2, c3])\n",
    "    return image_can\n"
   ],
   "metadata": {
    "collapsed": false,
    "pycharm": {
     "name": "#%%\n"
    }
   }
  },
  {
   "cell_type": "code",
   "execution_count": 162,
   "outputs": [],
   "source": [
    "df = pd.DataFrame({\n",
    "    'CAN_ID' : ['232','456','123','2f3','6a2','57a','420']\n",
    "})"
   ],
   "metadata": {
    "collapsed": false,
    "pycharm": {
     "name": "#%%\n"
    }
   }
  },
  {
   "cell_type": "code",
   "execution_count": 169,
   "outputs": [],
   "source": [
    "def make_can_image(data):\n",
    "    can_image = np.zeros((1,16))\n",
    "    # set size of image to 16 X ( 3 * 64 )\n",
    "    # colum is Hexadecimal presentation from CAN ID value\n",
    "    # row is  3 (CAN ID length) * 64 (optimal row size in reference paper)\n",
    "    for i in range(0,len(data)):\n",
    "        add_can = convert_to_can_data_to_image(data.iloc[i][0])\n",
    "        can_image = np.vstack([can_image,add_can])\n",
    "    can_image = np.delete(can_image,(0),axis=0)\n",
    "    int_can_image = can_image.astype(int)\n",
    "    return int_can_image"
   ],
   "metadata": {
    "collapsed": false,
    "pycharm": {
     "name": "#%%\n"
    }
   }
  },
  {
   "cell_type": "code",
   "execution_count": 173,
   "outputs": [
    {
     "name": "stdout",
     "output_type": "stream",
     "text": [
      "[[  0 255   0   0   0   0   0   0   0   0   0   0   0   0   0   0]\n",
      " [  0   0 255   0   0   0   0   0   0   0   0   0   0   0   0   0]\n",
      " [  0 255   0   0   0   0   0   0   0   0   0   0   0   0   0   0]\n",
      " [  0   0   0 255   0   0   0   0   0   0   0   0   0   0   0   0]\n",
      " [  0   0   0   0 255   0   0   0   0   0   0   0   0   0   0   0]\n",
      " [  0   0   0   0   0 255   0   0   0   0   0   0   0   0   0   0]\n",
      " [255   0   0   0   0   0   0   0   0   0   0   0   0   0   0   0]\n",
      " [  0 255   0   0   0   0   0   0   0   0   0   0   0   0   0   0]\n",
      " [  0   0 255   0   0   0   0   0   0   0   0   0   0   0   0   0]\n",
      " [  0 255   0   0   0   0   0   0   0   0   0   0   0   0   0   0]\n",
      " [  0   0   0   0   0   0   0   0   0   0   0   0   0   0   0 255]\n",
      " [  0   0 255   0   0   0   0   0   0   0   0   0   0   0   0   0]\n",
      " [  0   0   0   0   0 255   0   0   0   0   0   0   0   0   0   0]\n",
      " [  0   0   0   0   0   0   0   0   0   0 255   0   0   0   0   0]\n",
      " [  0 255   0   0   0   0   0   0   0   0   0   0   0   0   0   0]\n",
      " [  0   0   0   0 255   0   0   0   0   0   0   0   0   0   0   0]\n",
      " [  0   0   0   0   0   0 255   0   0   0   0   0   0   0   0   0]\n",
      " [  0   0   0   0   0   0   0   0   0   0 255   0   0   0   0   0]\n",
      " [  0   0   0 255   0   0   0   0   0   0   0   0   0   0   0   0]\n",
      " [  0 255   0   0   0   0   0   0   0   0   0   0   0   0   0   0]\n",
      " [  0   0   0   0   0   0   0   0   0 255   0   0   0   0   0   0]]\n",
      "(21, 16)\n"
     ]
    }
   ],
   "source": [
    "d = make_can_image(df)\n",
    "print(d)\n",
    "print(d.shape)"
   ],
   "metadata": {
    "collapsed": false,
    "pycharm": {
     "name": "#%%\n"
    }
   }
  },
  {
   "cell_type": "code",
   "execution_count": 174,
   "outputs": [],
   "source": [
    "image = Image.fromarray(make_can_image(df))\n",
    "image = image.convert(\"RGB\")\n",
    "image.save('filename.png')"
   ],
   "metadata": {
    "collapsed": false,
    "pycharm": {
     "name": "#%%\n"
    }
   }
  },
  {
   "cell_type": "code",
   "execution_count": 175,
   "outputs": [
    {
     "name": "stdout",
     "output_type": "stream",
     "text": [
      "[[  0 255   0   0   0   0   0   0   0   0   0   0   0   0   0   0]\n",
      " [  0   0 255   0   0   0   0   0   0   0   0   0   0   0   0   0]\n",
      " [  0 255   0   0   0   0   0   0   0   0   0   0   0   0   0   0]\n",
      " [  0   0   0 255   0   0   0   0   0   0   0   0   0   0   0   0]\n",
      " [  0   0   0   0 255   0   0   0   0   0   0   0   0   0   0   0]\n",
      " [  0   0   0   0   0 255   0   0   0   0   0   0   0   0   0   0]\n",
      " [255   0   0   0   0   0   0   0   0   0   0   0   0   0   0   0]\n",
      " [  0 255   0   0   0   0   0   0   0   0   0   0   0   0   0   0]\n",
      " [  0   0 255   0   0   0   0   0   0   0   0   0   0   0   0   0]\n",
      " [  0 255   0   0   0   0   0   0   0   0   0   0   0   0   0   0]\n",
      " [  0   0   0   0   0   0   0   0   0   0   0   0   0   0   0 255]\n",
      " [  0   0 255   0   0   0   0   0   0   0   0   0   0   0   0   0]\n",
      " [  0   0   0   0   0 255   0   0   0   0   0   0   0   0   0   0]\n",
      " [  0   0   0   0   0   0   0   0   0   0 255   0   0   0   0   0]\n",
      " [  0 255   0   0   0   0   0   0   0   0   0   0   0   0   0   0]\n",
      " [  0   0   0   0 255   0   0   0   0   0   0   0   0   0   0   0]\n",
      " [  0   0   0   0   0   0 255   0   0   0   0   0   0   0   0   0]\n",
      " [  0   0   0   0   0   0   0   0   0   0 255   0   0   0   0   0]\n",
      " [  0   0   0 255   0   0   0   0   0   0   0   0   0   0   0   0]\n",
      " [  0 255   0   0   0   0   0   0   0   0   0   0   0   0   0   0]\n",
      " [  0   0   0   0   0   0   0   0   0 255   0   0   0   0   0   0]]\n"
     ]
    }
   ],
   "source": [
    "img = Image.open('filename.png').convert('L')\n",
    "img_array = np.array(img)\n",
    "print(img_array)"
   ],
   "metadata": {
    "collapsed": false,
    "pycharm": {
     "name": "#%%\n"
    }
   }
  },
  {
   "cell_type": "code",
   "execution_count": null,
   "outputs": [],
   "source": [],
   "metadata": {
    "collapsed": false,
    "pycharm": {
     "name": "#%%\n"
    }
   }
  }
 ],
 "metadata": {
  "kernelspec": {
   "display_name": "Python 3",
   "language": "python",
   "name": "python3"
  },
  "language_info": {
   "codemirror_mode": {
    "name": "ipython",
    "version": 2
   },
   "file_extension": ".py",
   "mimetype": "text/x-python",
   "name": "python",
   "nbconvert_exporter": "python",
   "pygments_lexer": "ipython2",
   "version": "2.7.6"
  }
 },
 "nbformat": 4,
 "nbformat_minor": 0
}