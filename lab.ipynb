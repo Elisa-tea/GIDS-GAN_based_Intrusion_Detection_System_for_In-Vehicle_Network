{
 "cells": [
  {
   "cell_type": "code",
   "execution_count": 1,
   "outputs": [],
   "source": [
    "import torch.nn as nn\n",
    "import torch"
   ],
   "metadata": {
    "collapsed": false,
    "pycharm": {
     "name": "#%%\n"
    }
   }
  },
  {
   "cell_type": "code",
   "execution_count": 16,
   "outputs": [],
   "source": [
    "class Sample(nn.Module):\n",
    "    def __init__(self):\n",
    "        super(Sample,self).__init__()\n",
    "        self.main = nn.Sequential(\n",
    "            nn.ConvTranspose2d(256,512,(3,4),stride=1,bias=False),\n",
    "            nn.ReLU(True),\n",
    "            # second layer\n",
    "            nn.ConvTranspose2d(512,256,4,stride=2,padding=1,bias=False),\n",
    "            nn.ReLU(True),\n",
    "            # third layer\n",
    "            nn.ConvTranspose2d(256,128,4,stride=2,padding=1,bias=False),\n",
    "            nn.ReLU(True),\n",
    "            # fourth layer,\n",
    "            nn.ConvTranspose2d(128,64,4,stride=2,padding=1,bias=False),\n",
    "            nn.ReLU(True),\n",
    "            # Final layer\n",
    "            nn.ConvTranspose2d(64,1,4,stride=2,padding=1,bias=False),\n",
    "            nn.Tanh()\n",
    "\n",
    "        )\n",
    "    def forward(self, input):\n",
    "        return self.main(input)"
   ],
   "metadata": {
    "collapsed": false,
    "pycharm": {
     "name": "#%%\n"
    }
   }
  },
  {
   "cell_type": "code",
   "execution_count": 17,
   "metadata": {
    "collapsed": true
   },
   "outputs": [
    {
     "name": "stdout",
     "output_type": "stream",
     "text": [
      "Result shape:  torch.Size([1, 1, 48, 64])\n",
      "Result:  tensor([[[[-1.9857e-04,  4.0855e-05, -7.1710e-04,  ...,  6.4290e-04,\n",
      "           -2.7335e-04,  2.6818e-04],\n",
      "          [ 5.7773e-04, -3.5263e-04,  6.2306e-05,  ...,  8.2825e-04,\n",
      "            7.0378e-04, -3.9710e-04],\n",
      "          [-9.7962e-04, -6.7840e-04, -8.6151e-04,  ...,  5.2948e-04,\n",
      "           -1.2443e-04, -5.0576e-04],\n",
      "          ...,\n",
      "          [ 1.5691e-04,  2.5746e-04, -1.0815e-03,  ...,  6.8062e-04,\n",
      "            1.9103e-03, -5.1481e-04],\n",
      "          [-4.3332e-04, -2.1947e-04,  3.2225e-04,  ..., -3.7339e-04,\n",
      "           -1.7939e-04, -9.4609e-05],\n",
      "          [-2.6713e-04,  2.8704e-04,  1.1624e-04,  ...,  9.2550e-04,\n",
      "            4.8520e-05,  5.7130e-05]]]], grad_fn=<TanhBackward>)\n"
     ]
    }
   ],
   "source": [
    "input = torch.randn(1,256,1,1)\n",
    "input2 = torch.ones((1,256,1,1))\n",
    "\n",
    "model = Sample()\n",
    "result = model(input2)\n",
    "print('Result shape: ',result.shape)\n",
    "print('Result: ',result)"
   ]
  },
  {
   "cell_type": "code",
   "execution_count": 48,
   "outputs": [],
   "source": [
    "class Discriminator(nn.Module):\n",
    "    def __init__(self):\n",
    "        super(Discriminator,self).__init__()\n",
    "        self.main = nn.Sequential(\n",
    "            nn.Conv2d(1,1,(4,3),stride=(2,1),padding=1,bias=False),\n",
    "            nn.ReLU(True),\n",
    "            nn.Conv2d(1,1,(4,3),stride=(2,1),padding=1,bias=False),\n",
    "            nn.ReLU(True),\n",
    "            nn.Conv2d(1,1,(16,48),stride=1,padding=0,bias=False),\n",
    "            nn.Sigmoid()\n",
    "        )\n",
    "    def forward(self, input):\n",
    "        return self.main(input)"
   ],
   "metadata": {
    "collapsed": false,
    "pycharm": {
     "name": "#%%\n"
    }
   }
  },
  {
   "cell_type": "code",
   "execution_count": 49,
   "outputs": [
    {
     "name": "stdout",
     "output_type": "stream",
     "text": [
      "Result shape:  torch.Size([1, 1, 1, 1])\n",
      "Result:  tensor([[[[0.4958]]]], grad_fn=<SigmoidBackward>)\n"
     ]
    }
   ],
   "source": [
    "input_for_D = torch.randn(1,1,64,48)\n",
    "#input2 = torch.ones((1,256,1,1))\n",
    "\n",
    "model = Discriminator()\n",
    "result = model(input_for_D)\n",
    "print('Result shape: ',result.shape)\n",
    "print('Result: ',result)\n"
   ],
   "metadata": {
    "collapsed": false,
    "pycharm": {
     "name": "#%%\n"
    }
   }
  }
 ],
 "metadata": {
  "kernelspec": {
   "display_name": "Python 3",
   "language": "python",
   "name": "python3"
  },
  "language_info": {
   "codemirror_mode": {
    "name": "ipython",
    "version": 2
   },
   "file_extension": ".py",
   "mimetype": "text/x-python",
   "name": "python",
   "nbconvert_exporter": "python",
   "pygments_lexer": "ipython2",
   "version": "2.7.6"
  }
 },
 "nbformat": 4,
 "nbformat_minor": 0
}